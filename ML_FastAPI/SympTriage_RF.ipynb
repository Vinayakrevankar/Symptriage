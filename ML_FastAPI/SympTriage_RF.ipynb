{
  "cells": [
    {
      "cell_type": "code",
      "source": [
        "!pip install kaggle\n",
        "!pip install librosa\n",
        "!pip install torch\n",
        "!pip install scikit-learn\n",
        "!mkdir -p ~/.kaggle\n",
        "!cp kaggle.json ~/.kaggle/\n",
        "!chmod 600 ~/.kaggle/kaggle.json\n",
        "\n",
        "import kagglehub\n",
        "\n",
        "# Download latest version\n",
        "path = kagglehub.dataset_download(\"itachi9604/disease-symptom-description-dataset\")\n",
        "\n",
        "print(\"Path to dataset files:\", path)"
      ],
      "metadata": {
        "colab": {
          "base_uri": "https://localhost:8080/"
        },
        "id": "tOTBWQIpAdjM",
        "outputId": "91bf48b6-9f95-46e9-d526-7d60f49da8f8"
      },
      "id": "tOTBWQIpAdjM",
      "execution_count": 1,
      "outputs": [
        {
          "output_type": "stream",
          "name": "stdout",
          "text": [
            "Requirement already satisfied: kaggle in /usr/local/lib/python3.10/dist-packages (1.6.17)\n",
            "Requirement already satisfied: six>=1.10 in /usr/local/lib/python3.10/dist-packages (from kaggle) (1.16.0)\n",
            "Requirement already satisfied: certifi>=2023.7.22 in /usr/local/lib/python3.10/dist-packages (from kaggle) (2024.8.30)\n",
            "Requirement already satisfied: python-dateutil in /usr/local/lib/python3.10/dist-packages (from kaggle) (2.8.2)\n",
            "Requirement already satisfied: requests in /usr/local/lib/python3.10/dist-packages (from kaggle) (2.32.3)\n",
            "Requirement already satisfied: tqdm in /usr/local/lib/python3.10/dist-packages (from kaggle) (4.66.6)\n",
            "Requirement already satisfied: python-slugify in /usr/local/lib/python3.10/dist-packages (from kaggle) (8.0.4)\n",
            "Requirement already satisfied: urllib3 in /usr/local/lib/python3.10/dist-packages (from kaggle) (2.2.3)\n",
            "Requirement already satisfied: bleach in /usr/local/lib/python3.10/dist-packages (from kaggle) (6.2.0)\n",
            "Requirement already satisfied: webencodings in /usr/local/lib/python3.10/dist-packages (from bleach->kaggle) (0.5.1)\n",
            "Requirement already satisfied: text-unidecode>=1.3 in /usr/local/lib/python3.10/dist-packages (from python-slugify->kaggle) (1.3)\n",
            "Requirement already satisfied: charset-normalizer<4,>=2 in /usr/local/lib/python3.10/dist-packages (from requests->kaggle) (3.4.0)\n",
            "Requirement already satisfied: idna<4,>=2.5 in /usr/local/lib/python3.10/dist-packages (from requests->kaggle) (3.10)\n",
            "Requirement already satisfied: librosa in /usr/local/lib/python3.10/dist-packages (0.10.2.post1)\n",
            "Requirement already satisfied: audioread>=2.1.9 in /usr/local/lib/python3.10/dist-packages (from librosa) (3.0.1)\n",
            "Requirement already satisfied: numpy!=1.22.0,!=1.22.1,!=1.22.2,>=1.20.3 in /usr/local/lib/python3.10/dist-packages (from librosa) (1.26.4)\n",
            "Requirement already satisfied: scipy>=1.2.0 in /usr/local/lib/python3.10/dist-packages (from librosa) (1.13.1)\n",
            "Requirement already satisfied: scikit-learn>=0.20.0 in /usr/local/lib/python3.10/dist-packages (from librosa) (1.5.2)\n",
            "Requirement already satisfied: joblib>=0.14 in /usr/local/lib/python3.10/dist-packages (from librosa) (1.4.2)\n",
            "Requirement already satisfied: decorator>=4.3.0 in /usr/local/lib/python3.10/dist-packages (from librosa) (4.4.2)\n",
            "Requirement already satisfied: numba>=0.51.0 in /usr/local/lib/python3.10/dist-packages (from librosa) (0.60.0)\n",
            "Requirement already satisfied: soundfile>=0.12.1 in /usr/local/lib/python3.10/dist-packages (from librosa) (0.12.1)\n",
            "Requirement already satisfied: pooch>=1.1 in /usr/local/lib/python3.10/dist-packages (from librosa) (1.8.2)\n",
            "Requirement already satisfied: soxr>=0.3.2 in /usr/local/lib/python3.10/dist-packages (from librosa) (0.5.0.post1)\n",
            "Requirement already satisfied: typing-extensions>=4.1.1 in /usr/local/lib/python3.10/dist-packages (from librosa) (4.12.2)\n",
            "Requirement already satisfied: lazy-loader>=0.1 in /usr/local/lib/python3.10/dist-packages (from librosa) (0.4)\n",
            "Requirement already satisfied: msgpack>=1.0 in /usr/local/lib/python3.10/dist-packages (from librosa) (1.1.0)\n",
            "Requirement already satisfied: packaging in /usr/local/lib/python3.10/dist-packages (from lazy-loader>=0.1->librosa) (24.2)\n",
            "Requirement already satisfied: llvmlite<0.44,>=0.43.0dev0 in /usr/local/lib/python3.10/dist-packages (from numba>=0.51.0->librosa) (0.43.0)\n",
            "Requirement already satisfied: platformdirs>=2.5.0 in /usr/local/lib/python3.10/dist-packages (from pooch>=1.1->librosa) (4.3.6)\n",
            "Requirement already satisfied: requests>=2.19.0 in /usr/local/lib/python3.10/dist-packages (from pooch>=1.1->librosa) (2.32.3)\n",
            "Requirement already satisfied: threadpoolctl>=3.1.0 in /usr/local/lib/python3.10/dist-packages (from scikit-learn>=0.20.0->librosa) (3.5.0)\n",
            "Requirement already satisfied: cffi>=1.0 in /usr/local/lib/python3.10/dist-packages (from soundfile>=0.12.1->librosa) (1.17.1)\n",
            "Requirement already satisfied: pycparser in /usr/local/lib/python3.10/dist-packages (from cffi>=1.0->soundfile>=0.12.1->librosa) (2.22)\n",
            "Requirement already satisfied: charset-normalizer<4,>=2 in /usr/local/lib/python3.10/dist-packages (from requests>=2.19.0->pooch>=1.1->librosa) (3.4.0)\n",
            "Requirement already satisfied: idna<4,>=2.5 in /usr/local/lib/python3.10/dist-packages (from requests>=2.19.0->pooch>=1.1->librosa) (3.10)\n",
            "Requirement already satisfied: urllib3<3,>=1.21.1 in /usr/local/lib/python3.10/dist-packages (from requests>=2.19.0->pooch>=1.1->librosa) (2.2.3)\n",
            "Requirement already satisfied: certifi>=2017.4.17 in /usr/local/lib/python3.10/dist-packages (from requests>=2.19.0->pooch>=1.1->librosa) (2024.8.30)\n",
            "Requirement already satisfied: torch in /usr/local/lib/python3.10/dist-packages (2.5.1+cu121)\n",
            "Requirement already satisfied: filelock in /usr/local/lib/python3.10/dist-packages (from torch) (3.16.1)\n",
            "Requirement already satisfied: typing-extensions>=4.8.0 in /usr/local/lib/python3.10/dist-packages (from torch) (4.12.2)\n",
            "Requirement already satisfied: networkx in /usr/local/lib/python3.10/dist-packages (from torch) (3.4.2)\n",
            "Requirement already satisfied: jinja2 in /usr/local/lib/python3.10/dist-packages (from torch) (3.1.4)\n",
            "Requirement already satisfied: fsspec in /usr/local/lib/python3.10/dist-packages (from torch) (2024.10.0)\n",
            "Requirement already satisfied: sympy==1.13.1 in /usr/local/lib/python3.10/dist-packages (from torch) (1.13.1)\n",
            "Requirement already satisfied: mpmath<1.4,>=1.1.0 in /usr/local/lib/python3.10/dist-packages (from sympy==1.13.1->torch) (1.3.0)\n",
            "Requirement already satisfied: MarkupSafe>=2.0 in /usr/local/lib/python3.10/dist-packages (from jinja2->torch) (3.0.2)\n",
            "Requirement already satisfied: scikit-learn in /usr/local/lib/python3.10/dist-packages (1.5.2)\n",
            "Requirement already satisfied: numpy>=1.19.5 in /usr/local/lib/python3.10/dist-packages (from scikit-learn) (1.26.4)\n",
            "Requirement already satisfied: scipy>=1.6.0 in /usr/local/lib/python3.10/dist-packages (from scikit-learn) (1.13.1)\n",
            "Requirement already satisfied: joblib>=1.2.0 in /usr/local/lib/python3.10/dist-packages (from scikit-learn) (1.4.2)\n",
            "Requirement already satisfied: threadpoolctl>=3.1.0 in /usr/local/lib/python3.10/dist-packages (from scikit-learn) (3.5.0)\n",
            "cp: cannot stat 'kaggle.json': No such file or directory\n",
            "chmod: cannot access '/root/.kaggle/kaggle.json': No such file or directory\n",
            "Downloading from https://www.kaggle.com/api/v1/datasets/download/itachi9604/disease-symptom-description-dataset?dataset_version_number=2...\n"
          ]
        },
        {
          "output_type": "stream",
          "name": "stderr",
          "text": [
            "100%|██████████| 30.1k/30.1k [00:00<00:00, 8.37MB/s]"
          ]
        },
        {
          "output_type": "stream",
          "name": "stdout",
          "text": [
            "Extracting files...\n",
            "Path to dataset files: /root/.cache/kagglehub/datasets/itachi9604/disease-symptom-description-dataset/versions/2\n"
          ]
        },
        {
          "output_type": "stream",
          "name": "stderr",
          "text": [
            "\n"
          ]
        }
      ]
    },
    {
      "cell_type": "code",
      "execution_count": 2,
      "id": "2dc03444",
      "metadata": {
        "_cell_guid": "769d7dfe-4275-42c0-b13a-b2e1a51323d3",
        "_uuid": "04ba2606-383c-47c1-8b3a-c2fec9ab7f90",
        "execution": {
          "iopub.execute_input": "2024-04-02T09:02:30.087949Z",
          "iopub.status.busy": "2024-04-02T09:02:30.087090Z",
          "iopub.status.idle": "2024-04-02T09:02:33.366411Z",
          "shell.execute_reply": "2024-04-02T09:02:33.365331Z"
        },
        "jupyter": {
          "outputs_hidden": false
        },
        "papermill": {
          "duration": 3.2932,
          "end_time": "2024-04-02T09:02:33.369170",
          "exception": false,
          "start_time": "2024-04-02T09:02:30.075970",
          "status": "completed"
        },
        "tags": [],
        "id": "2dc03444"
      },
      "outputs": [],
      "source": [
        "import pandas as pd\n",
        "import numpy as np\n",
        "import matplotlib.pyplot as plt\n",
        "from sklearn.model_selection import train_test_split,KFold,cross_val_score,GridSearchCV\n",
        "from sklearn.svm import SVC\n",
        "from sklearn.metrics import f1_score, accuracy_score, confusion_matrix,classification_report,confusion_matrix,precision_score,roc_curve\n",
        "import seaborn as sns\n",
        "from sklearn.utils import shuffle\n",
        "from sklearn.ensemble import RandomForestClassifier\n",
        "from sklearn import metrics\n",
        "import warnings\n",
        "import torch\n",
        "import os"
      ]
    },
    {
      "cell_type": "code",
      "source": [
        "warnings.filterwarnings(\"ignore\")\n",
        "\n",
        "device = torch.device(\"cuda\" if torch.cuda.is_available() else \"cpu\")\n",
        "print(f\"Using device: {device}\")\n",
        "\n",
        "DATASET_PATH = path\n",
        "\n",
        "class_dir = os.path.join(DATASET_PATH)\n",
        "for filename in os.listdir(class_dir):\n",
        "  print(filename)"
      ],
      "metadata": {
        "colab": {
          "base_uri": "https://localhost:8080/"
        },
        "id": "Ps-p7H5bAtSr",
        "outputId": "bc0f2254-fd69-42d2-d02f-71b0a5145e79"
      },
      "id": "Ps-p7H5bAtSr",
      "execution_count": 3,
      "outputs": [
        {
          "output_type": "stream",
          "name": "stdout",
          "text": [
            "Using device: cuda\n",
            "Symptom-severity.csv\n",
            "symptom_precaution.csv\n",
            "symptom_Description.csv\n",
            "dataset.csv\n"
          ]
        }
      ]
    },
    {
      "cell_type": "markdown",
      "id": "62052036",
      "metadata": {
        "_cell_guid": "e1480d23-615f-449d-899c-980c4745d98a",
        "_uuid": "e4080fe0-1a9b-474a-a75c-7edf10baded4",
        "papermill": {
          "duration": 0.008446,
          "end_time": "2024-04-02T09:02:33.386160",
          "exception": false,
          "start_time": "2024-04-02T09:02:33.377714",
          "status": "completed"
        },
        "tags": [],
        "id": "62052036"
      },
      "source": [
        "**Read and shuffle the dataset**"
      ]
    },
    {
      "cell_type": "code",
      "execution_count": 4,
      "id": "7acde567",
      "metadata": {
        "_cell_guid": "004332d9-692e-421f-91cc-5d0335a40ac9",
        "_uuid": "0b07b2a3-a895-48e5-9bc2-05c749e1a761",
        "execution": {
          "iopub.execute_input": "2024-04-02T09:02:33.405218Z",
          "iopub.status.busy": "2024-04-02T09:02:33.404237Z",
          "iopub.status.idle": "2024-04-02T09:02:33.479229Z",
          "shell.execute_reply": "2024-04-02T09:02:33.477973Z"
        },
        "jupyter": {
          "outputs_hidden": false
        },
        "papermill": {
          "duration": 0.087366,
          "end_time": "2024-04-02T09:02:33.481773",
          "exception": false,
          "start_time": "2024-04-02T09:02:33.394407",
          "status": "completed"
        },
        "tags": [],
        "id": "7acde567",
        "outputId": "849c5c56-b99e-418f-e9cd-5c2afc09222c",
        "colab": {
          "base_uri": "https://localhost:8080/"
        }
      },
      "outputs": [
        {
          "output_type": "stream",
          "name": "stdout",
          "text": [
            "['Disease', 'itching', 'shivering', 'chills', 'acidity', 'vomiting', 'fatigue', 'anxiety', 'restlessness', 'lethargy', 'cough', 'breathlessness', 'sweating', 'dehydration', 'indigestion', 'headache', 'nausea', 'constipation', 'diarrhoea', 'malaise', 'phlegm', 'congestion', 'dizziness', 'cramps', 'bruising', 'obesity', 'unsteadiness', 'depression', 'irritability', 'polyuria', 'coma', 'palpitations', 'blackheads', 'scurring', 'blister', 'skin rash', 'pus filled pimples', 'mood swings', 'weight loss', 'fast heart rate', 'excessive hunger', 'muscle weakness', 'abnormal menstruation', 'muscle wasting', 'patches in throat', 'high fever', 'extra marital contacts', 'yellowish skin', 'loss of appetite', 'abdominal pain', 'yellowing of eyes', 'chest pain', 'loss of balance', 'lack of concentration', 'blurred and distorted vision', 'drying and tingling lips', 'slurred speech', 'stiff neck', 'swelling joints', 'painful walking', 'dark urine', 'yellow urine', 'receiving blood transfusion', 'receiving unsterile injections', 'visual disturbances', 'burning micturition', 'bladder discomfort', 'foul smell of urine', 'continuous feel of urine', 'irregular sugar level', 'increased appetite', 'joint pain', 'skin peeling', 'small dents in nails', 'inflammatory nails', 'swelling of stomach', 'distention of abdomen', 'history of alcohol consumption', 'fluid overload', 'pain during bowel movements', 'pain in anal region', 'bloody stool', 'irritation in anus', 'acute liver failure', 'stomach bleeding', 'back pain', 'weakness in limbs', 'neck pain', 'mucoid sputum', 'mild fever', 'muscle pain', 'family history', 'continuous sneezing', 'watering from eyes', 'rusty sputum', 'weight gain', 'puffy face and eyes', 'enlarged thyroid', 'brittle nails', 'swollen extremeties', 'swollen legs', 'prominent veins on calf', 'stomach pain', 'spinning movements', 'sunken eyes', 'silver like dusting', 'swelled lymph nodes', 'blood in sputum', 'swollen blood vessels', 'toxic look (typhos)', 'belly pain', 'throat irritation', 'redness of eyes', 'sinus pressure', 'runny nose', 'loss of smell', 'passage of gases', 'cold hands and feets', 'weakness of one body side', 'altered sensorium', 'nodal skin eruptions', 'red sore around nose', 'yellow crust ooze', 'ulcers on tongue', 'spotting  urination', 'pain behind the eyes', 'red spots over body', 'internal itching', 'movement stiffness', 'knee pain', 'hip joint pain', 'dischromic  patches']\n"
          ]
        }
      ],
      "source": [
        "df = pd.read_csv(os.path.join(DATASET_PATH, 'dataset.csv'))\n",
        "df = shuffle(df,random_state=42)\n",
        "\n",
        "for col in df.columns:\n",
        "    df[col] = df[col].str.replace('_',' ')\n",
        "\n",
        "null_checker = df.apply(lambda x: sum(x.isnull())).to_frame(name='count')\n",
        "\n",
        "cols = df.columns\n",
        "data = df[cols].values.flatten()\n",
        "s = pd.Series(data)\n",
        "s = s.str.strip()\n",
        "s = s.values.reshape(df.shape)\n",
        "\n",
        "df = pd.DataFrame(s, columns=df.columns)\n",
        "\n",
        "df = df.fillna(0)\n",
        "\n",
        "df1 = pd.read_csv(os.path.join(DATASET_PATH, 'Symptom-severity.csv'))\n",
        "x=df1['Symptom']\n",
        "\n",
        "dfx=pd.DataFrame()\n",
        "dfx[\"Disease\"]=df[\"Disease\"]\n",
        "y=0\n",
        "dfx[x]=0\n",
        "for index, row in df.iterrows():\n",
        "    for symptom in df.columns[1:]:\n",
        "        if row[symptom] != 0:\n",
        "            dfx.loc[index, row[symptom]] = 1\n",
        "dfx = dfx.fillna(0)\n",
        "dfx[dfx.columns[1:]]=dfx[dfx.columns[1:]].astype('int')\n",
        "dfx.columns = dfx.columns.str.strip()\n",
        "\n",
        "symptom_sums = dfx.iloc[:, 1:].sum(axis=0)\n",
        "symptoms_with_no_values = symptom_sums[symptom_sums == 0].index.tolist()\n",
        "\n",
        "columns_to_drop = symptoms_with_no_values\n",
        "dfx = dfx.drop(columns=columns_to_drop)\n",
        "dfx[dfx.columns[1:]].sum(axis=0).sort_values()\n",
        "print(dfx.columns.to_list())\n",
        "y=df['Disease'].unique()\n",
        "\n",
        "data = dfx.iloc[:,1:].values\n",
        "labels = dfx['Disease'].values"
      ]
    },
    {
      "cell_type": "code",
      "source": [],
      "metadata": {
        "id": "u-W1VX4vj4Ny"
      },
      "id": "u-W1VX4vj4Ny",
      "execution_count": 23,
      "outputs": []
    },
    {
      "cell_type": "code",
      "execution_count": 5,
      "id": "141686fd",
      "metadata": {
        "_cell_guid": "eba54136-513f-4b10-8009-017d6314cd1b",
        "_uuid": "12a704c1-408f-49c4-9bf8-688c51f0fde4",
        "execution": {
          "iopub.execute_input": "2024-04-02T09:03:00.220330Z",
          "iopub.status.busy": "2024-04-02T09:03:00.219014Z",
          "iopub.status.idle": "2024-04-02T09:03:00.254278Z",
          "shell.execute_reply": "2024-04-02T09:03:00.252698Z"
        },
        "jupyter": {
          "outputs_hidden": false
        },
        "papermill": {
          "duration": 0.052835,
          "end_time": "2024-04-02T09:03:00.257135",
          "exception": false,
          "start_time": "2024-04-02T09:03:00.204300",
          "status": "completed"
        },
        "tags": [],
        "id": "141686fd",
        "outputId": "b4265308-433c-48be-a62e-d858e87c9391",
        "colab": {
          "base_uri": "https://localhost:8080/"
        }
      },
      "outputs": [
        {
          "output_type": "stream",
          "name": "stdout",
          "text": [
            "(3936, 131) (984, 131) (3936,) (984,)\n"
          ]
        }
      ],
      "source": [
        "x_train, x_test, y_train, y_test = train_test_split(data, labels, train_size = 0.8,random_state=42)\n",
        "print(x_train.shape, x_test.shape, y_train.shape, y_test.shape)"
      ]
    },
    {
      "cell_type": "code",
      "execution_count": 6,
      "id": "9e9454c7",
      "metadata": {
        "execution": {
          "iopub.execute_input": "2024-04-02T09:03:00.286780Z",
          "iopub.status.busy": "2024-04-02T09:03:00.286304Z",
          "iopub.status.idle": "2024-04-02T09:03:00.294303Z",
          "shell.execute_reply": "2024-04-02T09:03:00.293007Z"
        },
        "papermill": {
          "duration": 0.026259,
          "end_time": "2024-04-02T09:03:00.296646",
          "exception": false,
          "start_time": "2024-04-02T09:03:00.270387",
          "status": "completed"
        },
        "tags": [],
        "id": "9e9454c7",
        "colab": {
          "base_uri": "https://localhost:8080/"
        },
        "outputId": "8ae6fd72-d45f-443b-d8e2-362604683018"
      },
      "outputs": [
        {
          "output_type": "execute_result",
          "data": {
            "text/plain": [
              "array(['(vertigo) Paroymsal  Positional Vertigo', 'AIDS', 'Acne',\n",
              "       'Alcoholic hepatitis', 'Allergy', 'Arthritis', 'Bronchial Asthma',\n",
              "       'Cervical spondylosis', 'Chicken pox', 'Chronic cholestasis',\n",
              "       'Common Cold', 'Dengue', 'Diabetes',\n",
              "       'Dimorphic hemmorhoids(piles)', 'Drug Reaction',\n",
              "       'Fungal infection', 'GERD', 'Gastroenteritis', 'Heart attack',\n",
              "       'Hepatitis B', 'Hepatitis C', 'Hepatitis D', 'Hepatitis E',\n",
              "       'Hypertension', 'Hyperthyroidism', 'Hypoglycemia',\n",
              "       'Hypothyroidism', 'Impetigo', 'Jaundice', 'Malaria', 'Migraine',\n",
              "       'Osteoarthristis', 'Paralysis (brain hemorrhage)',\n",
              "       'Peptic ulcer diseae', 'Pneumonia', 'Psoriasis', 'Tuberculosis',\n",
              "       'Typhoid', 'Urinary tract infection', 'Varicose veins',\n",
              "       'hepatitis A'], dtype=object)"
            ]
          },
          "metadata": {},
          "execution_count": 6
        }
      ],
      "source": [
        "from sklearn.preprocessing import LabelEncoder\n",
        "\n",
        "le = LabelEncoder()\n",
        "y_train = le.fit_transform(y_train)\n",
        "y_test = le.transform(y_test)\n",
        "\n",
        "y=le.classes_\n",
        "y"
      ]
    },
    {
      "cell_type": "code",
      "execution_count": 7,
      "id": "d3131d42",
      "metadata": {
        "execution": {
          "iopub.execute_input": "2024-04-02T09:03:00.364836Z",
          "iopub.status.busy": "2024-04-02T09:03:00.363921Z",
          "iopub.status.idle": "2024-04-02T09:19:29.554654Z",
          "shell.execute_reply": "2024-04-02T09:19:29.553396Z"
        },
        "papermill": {
          "duration": 989.2083,
          "end_time": "2024-04-02T09:19:29.557255",
          "exception": false,
          "start_time": "2024-04-02T09:03:00.348955",
          "status": "completed"
        },
        "tags": [],
        "id": "d3131d42",
        "outputId": "c9e6cb88-4aa8-49e6-bdb4-15d4c707387f",
        "colab": {
          "base_uri": "https://localhost:8080/"
        }
      },
      "outputs": [
        {
          "output_type": "stream",
          "name": "stdout",
          "text": [
            "Fitting 5 folds for each of 162 candidates, totalling 810 fits\n",
            "Best parameters: {'criterion': 'gini', 'max_depth': 10, 'min_samples_leaf': 1, 'min_samples_split': 5, 'n_estimators': 200}\n"
          ]
        }
      ],
      "source": [
        "import pandas as pd\n",
        "from sklearn.model_selection import train_test_split, cross_val_score, KFold, GridSearchCV\n",
        "from sklearn.metrics import f1_score, roc_auc_score\n",
        "import pickle\n",
        "param_grid = {\n",
        "    'n_estimators': [50, 100, 200],\n",
        "    'max_depth': [10, 20, None],\n",
        "    'min_samples_split': [2, 5, 10],\n",
        "    'min_samples_leaf': [1, 2, 4],\n",
        "    'criterion': ['gini', 'entropy']\n",
        "}\n",
        "kfold = KFold(n_splits=5, shuffle=True, random_state=1)\n",
        "\n",
        "grid_search = GridSearchCV(RandomForestClassifier(), param_grid, cv=kfold, scoring='f1_weighted', verbose=1)\n",
        "grid_search.fit(x_train, y_train)\n",
        "print(f'Best parameters: {grid_search.best_params_}')\n",
        "model = grid_search.best_estimator_\n",
        "cv_results = pd.DataFrame(grid_search.cv_results_)\n"
      ]
    },
    {
      "cell_type": "code",
      "source": [
        "cv_results = pd.DataFrame(grid_search.cv_results_)\n",
        "# print(cv_results.head())\n",
        "\n",
        "test_predictions = model.predict(x_test)\n",
        "test_accuracy = accuracy_score(y_test, test_predictions)\n",
        "print(f\"Test Accuracy: {test_accuracy:.4f}\")\n",
        "test_f1 = f1_score(y_test, test_predictions, average='weighted')\n",
        "test_roc = roc_auc_score(y_test, model.predict_proba(x_test), multi_class='ovr')\n",
        "print(f'RandomForest test F1 Score: {test_f1:.4f}, AUC-ROC Score: {test_roc:.4f}')\n",
        "\n",
        "\n",
        "with open('model.pkl', 'wb') as f:\n",
        "    pickle.dump(model, f)\n",
        "print(\"Best model saved as 'model.pkl'\")\n",
        "with open('label_encoder.pkl', 'wb') as le_file:\n",
        "    pickle.dump(le, le_file)"
      ],
      "metadata": {
        "colab": {
          "base_uri": "https://localhost:8080/"
        },
        "id": "fYQM2wVsxLTk",
        "outputId": "3d4a2e2f-eea5-46c9-aa90-335c17cd334a"
      },
      "id": "fYQM2wVsxLTk",
      "execution_count": 8,
      "outputs": [
        {
          "output_type": "stream",
          "name": "stdout",
          "text": [
            "Test Accuracy: 1.0000\n",
            "RandomForest test F1 Score: 1.0000, AUC-ROC Score: 1.0000\n",
            "Best model saved as 'model.pkl'\n"
          ]
        }
      ]
    },
    {
      "cell_type": "code",
      "execution_count": 16,
      "id": "30eb3b10",
      "metadata": {
        "_cell_guid": "86411b8b-e2db-4aa1-aec0-54b5c01a7164",
        "_uuid": "ecd6419c-ca99-4a9b-8b41-aba85f917eba",
        "execution": {
          "iopub.execute_input": "2024-04-02T09:19:29.873122Z",
          "iopub.status.busy": "2024-04-02T09:19:29.872681Z",
          "iopub.status.idle": "2024-04-02T09:19:29.882338Z",
          "shell.execute_reply": "2024-04-02T09:19:29.881403Z"
        },
        "jupyter": {
          "outputs_hidden": false
        },
        "papermill": {
          "duration": 0.027841,
          "end_time": "2024-04-02T09:19:29.884345",
          "exception": false,
          "start_time": "2024-04-02T09:19:29.856504",
          "status": "completed"
        },
        "tags": [],
        "id": "30eb3b10",
        "colab": {
          "base_uri": "https://localhost:8080/"
        },
        "outputId": "697672cd-79f7-4b18-ecde-6572a3a6be9f"
      },
      "outputs": [
        {
          "output_type": "stream",
          "name": "stdout",
          "text": [
            "Predicted Disease: Allergy\n",
            "Probability : {'(vertigo) Paroymsal  Positional Vertigo': 0.02097418387840458, 'AIDS': 0.023751005562590476, 'Acne': 0.0289661776554952, 'Alcoholic hepatitis': 0.024234317008768616, 'Allergy': 0.13190607713185248, 'Arthritis': 0.024412689611574792, 'Bronchial Asthma': 0.023834230257432112, 'Cervical spondylosis': 0.026916449966862255, 'Chicken pox': 0.022708766406238614, 'Chronic cholestasis': 0.03333063909401234, 'Common Cold': 0.010394636021880272, 'Dengue': 0.01351321901627071, 'Diabetes': 0.010674954156752132, 'Dimorphic hemmorhoids(piles)': 0.02343848724217687, 'Drug Reaction': 0.03212244076920094, 'Fungal infection': 0.030416128357880035, 'GERD': 0.025500362072155586, 'Gastroenteritis': 0.025245629271429842, 'Heart attack': 0.02959935671396796, 'Hepatitis B': 0.016050191559708958, 'Hepatitis C': 0.025901502216827802, 'Hepatitis D': 0.025446476996172102, 'Hepatitis E': 0.017403559388233313, 'Hypertension': 0.02565808106791214, 'Hyperthyroidism': 0.01372502172818634, 'Hypoglycemia': 0.015200623552950668, 'Hypothyroidism': 0.013733765482593611, 'Impetigo': 0.022596507678501614, 'Jaundice': 0.033175315457330094, 'Malaria': 0.025432740771710496, 'Migraine': 0.013217312743663707, 'Osteoarthristis': 0.020090938273658224, 'Paralysis (brain hemorrhage)': 0.023242555322874402, 'Peptic ulcer diseae': 0.023908647586243795, 'Pneumonia': 0.011409219450342812, 'Psoriasis': 0.0196699419842018, 'Tuberculosis': 0.011122110378946387, 'Typhoid': 0.01914853644271218, 'Urinary tract infection': 0.023867651364205374, 'Varicose veins': 0.02207402501499561, 'hepatitis A': 0.015985525343082663}\n"
          ]
        }
      ],
      "source": [
        "from sklearn.preprocessing import LabelEncoder\n",
        "\n",
        "def preprocess_and_predict(user_input, model, label_encoder, symptom_columns):\n",
        "  with open(model, 'rb') as f:\n",
        "      model = pickle.load(f)\n",
        "\n",
        "  with open(label_encoder, 'rb') as le_file:\n",
        "    le = pickle.load(le_file)\n",
        "\n",
        "  user_df = pd.DataFrame([user_input], columns=symptom_columns)\n",
        "  user_df.fillna(0, inplace=True)\n",
        "  input_data = user_df.values\n",
        "  prediction = model.predict(input_data)\n",
        "  probabilities = model.predict_proba(input_data)\n",
        "  predicted_label = le.inverse_transform(prediction)\n",
        "  prob_dict = {le.inverse_transform([i])[0]: prob for i, prob in enumerate(probabilities[0])}\n",
        "  return predicted_label[0], prob_dict\n",
        "\n",
        "symptom_columns = ['itching', 'shivering', 'chills', 'acidity', 'vomiting', 'fatigue', 'anxiety', 'restlessness', 'lethargy', 'cough', 'breathlessness', 'sweating', 'dehydration', 'indigestion', 'headache', 'nausea', 'constipation', 'diarrhoea', 'malaise', 'phlegm', 'congestion', 'dizziness', 'cramps', 'bruising', 'obesity', 'unsteadiness', 'depression', 'irritability', 'polyuria', 'coma', 'palpitations', 'blackheads', 'scurring', 'blister', 'skin rash', 'pus filled pimples', 'mood swings', 'weight loss', 'fast heart rate', 'excessive hunger', 'muscle weakness', 'abnormal menstruation', 'muscle wasting', 'patches in throat', 'high fever', 'extra marital contacts', 'yellowish skin', 'loss of appetite', 'abdominal pain', 'yellowing of eyes', 'chest pain', 'loss of balance', 'lack of concentration', 'blurred and distorted vision', 'drying and tingling lips', 'slurred speech', 'stiff neck', 'swelling joints', 'painful walking', 'dark urine', 'yellow urine', 'receiving blood transfusion', 'receiving unsterile injections', 'visual disturbances', 'burning micturition', 'bladder discomfort', 'foul smell of urine', 'continuous feel of urine', 'irregular sugar level', 'increased appetite', 'joint pain', 'skin peeling', 'small dents in nails', 'inflammatory nails', 'swelling of stomach', 'distention of abdomen', 'history of alcohol consumption', 'fluid overload', 'pain during bowel movements', 'pain in anal region', 'bloody stool', 'irritation in anus', 'acute liver failure', 'stomach bleeding', 'back pain', 'weakness in limbs', 'neck pain', 'mucoid sputum', 'mild fever', 'muscle pain', 'family history', 'continuous sneezing', 'watering from eyes', 'rusty sputum', 'weight gain', 'puffy face and eyes', 'enlarged thyroid', 'brittle nails', 'swollen extremeties', 'swollen legs', 'prominent veins on calf', 'stomach pain', 'spinning movements', 'sunken eyes', 'silver like dusting', 'swelled lymph nodes', 'blood in sputum', 'swollen blood vessels', 'toxic look (typhos)', 'belly pain', 'throat irritation', 'redness of eyes', 'sinus pressure', 'runny nose', 'loss of smell', 'passage of gases', 'cold hands and feets', 'weakness of one body side', 'altered sensorium', 'nodal skin eruptions', 'red sore around nose', 'yellow crust ooze', 'ulcers on tongue', 'spotting  urination', 'pain behind the eyes', 'red spots over body', 'internal itching', 'movement stiffness', 'knee pain', 'hip joint pain', 'dischromic  patches']\n",
        "\n",
        "user_input = {\n",
        "    'itching': 1,\n",
        "    'skin_rash': 1,\n",
        "    'nodal_skin_eruptions': 0,\n",
        "    'continuous_sneezing': 1,\n",
        "    'shivering': 1,\n",
        "    'chills': 1,\n",
        "    'joint_pain': 1,\n",
        "    'stomach_pain': 1,\n",
        "}\n",
        "\n",
        "# Predict the disease\n",
        "predicted_disease, probability = preprocess_and_predict(user_input, 'model.pkl', 'label_encoder.pkl', symptom_columns)\n",
        "print(f\"Predicted Disease: {predicted_disease}\")\n",
        "print(f\"Probability : {probability}\")"
      ]
    }
  ],
  "metadata": {
    "kaggle": {
      "accelerator": "none",
      "dataSources": [
        {
          "datasetId": 672162,
          "sourceId": 1182853,
          "sourceType": "datasetVersion"
        }
      ],
      "dockerImageVersionId": 30673,
      "isGpuEnabled": false,
      "isInternetEnabled": true,
      "language": "python",
      "sourceType": "notebook"
    },
    "kernelspec": {
      "display_name": "Python 3",
      "name": "python3"
    },
    "language_info": {
      "codemirror_mode": {
        "name": "ipython",
        "version": 3
      },
      "file_extension": ".py",
      "mimetype": "text/x-python",
      "name": "python",
      "nbconvert_exporter": "python",
      "pygments_lexer": "ipython3",
      "version": "3.10.13"
    },
    "papermill": {
      "default_parameters": {},
      "duration": 1024.404717,
      "end_time": "2024-04-02T09:19:31.358142",
      "environment_variables": {},
      "exception": null,
      "input_path": "__notebook__.ipynb",
      "output_path": "__notebook__.ipynb",
      "parameters": {},
      "start_time": "2024-04-02T09:02:26.953425",
      "version": "2.3.4"
    },
    "colab": {
      "provenance": [],
      "gpuType": "T4"
    },
    "accelerator": "GPU"
  },
  "nbformat": 4,
  "nbformat_minor": 5
}